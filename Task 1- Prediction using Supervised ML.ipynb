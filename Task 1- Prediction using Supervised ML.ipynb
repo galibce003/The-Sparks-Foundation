{
 "cells": [
  {
   "cell_type": "markdown",
   "metadata": {},
   "source": [
    "# Task 1: Prediction using Supervised ML\n",
    "**Predict the percentage of marks of an student based on the number of study hours**\n",
    "<br/>\n",
    "<br/>\n",
    "\n",
    "### Problem Statement:\n",
    "What will be the predicted score if a student studies for **9.25 hours/day**?\n",
    "<br/>\n",
    "<br/>\n",
    "\n",
    "\n",
    "\n",
    "\n",
    "### Author:  MD. Mehedi Hassan Galib  \n",
    "Department of Civil Engineering  \n",
    "Rajshahi University of Engineering and Technology (RUET)  \n",
    "Rajshahi-6204, Bangladesh  \n",
    "**Email**&nbsp;&nbsp;&nbsp;&nbsp;&nbsp;&nbsp;&nbsp;&nbsp;**:**  galibmehedihassan@gmail.com  \n",
    "**LinkedIn**&nbsp;&nbsp; **:** [Mehedi Hassan Galib](https://www.linkedin.com/in/mehedi-hassan-galib)  \n",
    "**Kaggle**&nbsp;&nbsp;&nbsp;&nbsp;&nbsp; **:** [Mehedi Hassan Galib](https://www.kaggle.com/galibce003)  \n",
    "**Github**&nbsp;&nbsp;&nbsp;&nbsp;&nbsp;&nbsp;**:** [Mehedi Hassan Galib](https://www.github.com/galibce003)  "
   ]
  },
  {
   "cell_type": "markdown",
   "metadata": {},
   "source": [
    "<br/>\n",
    "<br/>\n",
    "\n",
    "## Table of Content\n",
    "1. Importing necessary modules  \n",
    "2. Load the dataset  \n",
    "3. Reconnaissance  \n",
    "4. Exploratory Data Analysis  \n",
    "5. Data Preparation  \n",
    "6. Model Build up  \n",
    "&nbsp;&nbsp;&nbsp;&nbsp;6.1. Linear Regression  \n",
    "&nbsp;&nbsp;&nbsp;&nbsp;6.2. Ridge Regression  \n",
    "&nbsp;&nbsp;&nbsp;&nbsp;6.3. Lasso Regression  \n",
    "&nbsp;&nbsp;&nbsp;&nbsp;6.4. Elastic Net Regression  \n",
    "&nbsp;&nbsp;&nbsp;&nbsp;6.5. Decision Tree  \n",
    "&nbsp;&nbsp;&nbsp;&nbsp;6.6. K-nearest Neighbours  \n",
    "7. Comparison Between Different Models  \n",
    "8. Visualizing Model Performance  \n",
    "9. Predicting the score with respect to given study hour  \n",
    "10. Conclusion"
   ]
  },
  {
   "cell_type": "markdown",
   "metadata": {},
   "source": [
    "<br/>\n",
    "<br/>\n",
    "\n",
    "## 1. Importing necessary modules"
   ]
  },
  {
   "cell_type": "code",
   "execution_count": 60,
   "metadata": {},
   "outputs": [],
   "source": [
    "import pandas as pd\n",
    "import numpy as np\n",
    "import matplotlib.pyplot as plt\n",
    "%matplotlib inline\n",
    "\n",
    "from sklearn.model_selection import train_test_split\n",
    "from sklearn.linear_model import LinearRegression, Ridge, Lasso, ElasticNet\n",
    "from sklearn.tree import DecisionTreeRegressor\n",
    "from sklearn.neighbors import KNeighborsRegressor\n",
    "\n",
    "from sklearn.metrics import r2_score"
   ]
  },
  {
   "cell_type": "markdown",
   "metadata": {},
   "source": [
    "<br/>\n",
    "\n",
    "## 2. Load the dataset"
   ]
  },
  {
   "cell_type": "code",
   "execution_count": 2,
   "metadata": {},
   "outputs": [],
   "source": [
    "df = pd.read_csv('C:/Users/Mehedi Hassan Galib/Desktop/Python/Sparks/Dataset/task1_study hour vs score.csv')"
   ]
  },
  {
   "cell_type": "markdown",
   "metadata": {},
   "source": [
    "<br/>\n",
    "\n",
    "## 3. Reconnaissance"
   ]
  },
  {
   "cell_type": "markdown",
   "metadata": {},
   "source": [
    "##### First few rows of the dataset"
   ]
  },
  {
   "cell_type": "code",
   "execution_count": 3,
   "metadata": {},
   "outputs": [
    {
     "data": {
      "text/html": [
       "<div>\n",
       "<style scoped>\n",
       "    .dataframe tbody tr th:only-of-type {\n",
       "        vertical-align: middle;\n",
       "    }\n",
       "\n",
       "    .dataframe tbody tr th {\n",
       "        vertical-align: top;\n",
       "    }\n",
       "\n",
       "    .dataframe thead th {\n",
       "        text-align: right;\n",
       "    }\n",
       "</style>\n",
       "<table border=\"1\" class=\"dataframe\">\n",
       "  <thead>\n",
       "    <tr style=\"text-align: right;\">\n",
       "      <th></th>\n",
       "      <th>Hours</th>\n",
       "      <th>Scores</th>\n",
       "    </tr>\n",
       "  </thead>\n",
       "  <tbody>\n",
       "    <tr>\n",
       "      <th>0</th>\n",
       "      <td>2.5</td>\n",
       "      <td>21</td>\n",
       "    </tr>\n",
       "    <tr>\n",
       "      <th>1</th>\n",
       "      <td>5.1</td>\n",
       "      <td>47</td>\n",
       "    </tr>\n",
       "    <tr>\n",
       "      <th>2</th>\n",
       "      <td>3.2</td>\n",
       "      <td>27</td>\n",
       "    </tr>\n",
       "    <tr>\n",
       "      <th>3</th>\n",
       "      <td>8.5</td>\n",
       "      <td>75</td>\n",
       "    </tr>\n",
       "    <tr>\n",
       "      <th>4</th>\n",
       "      <td>3.5</td>\n",
       "      <td>30</td>\n",
       "    </tr>\n",
       "  </tbody>\n",
       "</table>\n",
       "</div>"
      ],
      "text/plain": [
       "   Hours  Scores\n",
       "0    2.5      21\n",
       "1    5.1      47\n",
       "2    3.2      27\n",
       "3    8.5      75\n",
       "4    3.5      30"
      ]
     },
     "execution_count": 3,
     "metadata": {},
     "output_type": "execute_result"
    }
   ],
   "source": [
    "df.head()"
   ]
  },
  {
   "cell_type": "markdown",
   "metadata": {},
   "source": [
    "##### Shape of the dataset"
   ]
  },
  {
   "cell_type": "code",
   "execution_count": 4,
   "metadata": {},
   "outputs": [
    {
     "data": {
      "text/plain": [
       "(25, 2)"
      ]
     },
     "execution_count": 4,
     "metadata": {},
     "output_type": "execute_result"
    }
   ],
   "source": [
    "df.shape"
   ]
  },
  {
   "cell_type": "markdown",
   "metadata": {},
   "source": [
    "##### Checking Null Values"
   ]
  },
  {
   "cell_type": "code",
   "execution_count": 5,
   "metadata": {},
   "outputs": [
    {
     "data": {
      "text/plain": [
       "Hours     0\n",
       "Scores    0\n",
       "dtype: int64"
      ]
     },
     "execution_count": 5,
     "metadata": {},
     "output_type": "execute_result"
    }
   ],
   "source": [
    "df.isnull().sum()"
   ]
  },
  {
   "cell_type": "markdown",
   "metadata": {},
   "source": [
    "##### Checking the data types"
   ]
  },
  {
   "cell_type": "code",
   "execution_count": 6,
   "metadata": {},
   "outputs": [
    {
     "data": {
      "text/plain": [
       "Hours     float64\n",
       "Scores      int64\n",
       "dtype: object"
      ]
     },
     "execution_count": 6,
     "metadata": {},
     "output_type": "execute_result"
    }
   ],
   "source": [
    "df.dtypes"
   ]
  },
  {
   "cell_type": "markdown",
   "metadata": {},
   "source": [
    "<br/>\n",
    "\n",
    "## 4. Exploratrory Data Analysis"
   ]
  },
  {
   "cell_type": "markdown",
   "metadata": {},
   "source": [
    "##### Correlation"
   ]
  },
  {
   "cell_type": "code",
   "execution_count": 8,
   "metadata": {},
   "outputs": [
    {
     "data": {
      "text/html": [
       "<div>\n",
       "<style scoped>\n",
       "    .dataframe tbody tr th:only-of-type {\n",
       "        vertical-align: middle;\n",
       "    }\n",
       "\n",
       "    .dataframe tbody tr th {\n",
       "        vertical-align: top;\n",
       "    }\n",
       "\n",
       "    .dataframe thead th {\n",
       "        text-align: right;\n",
       "    }\n",
       "</style>\n",
       "<table border=\"1\" class=\"dataframe\">\n",
       "  <thead>\n",
       "    <tr style=\"text-align: right;\">\n",
       "      <th></th>\n",
       "      <th>Hours</th>\n",
       "      <th>Scores</th>\n",
       "    </tr>\n",
       "  </thead>\n",
       "  <tbody>\n",
       "    <tr>\n",
       "      <th>Hours</th>\n",
       "      <td>1.000000</td>\n",
       "      <td>0.976191</td>\n",
       "    </tr>\n",
       "    <tr>\n",
       "      <th>Scores</th>\n",
       "      <td>0.976191</td>\n",
       "      <td>1.000000</td>\n",
       "    </tr>\n",
       "  </tbody>\n",
       "</table>\n",
       "</div>"
      ],
      "text/plain": [
       "           Hours    Scores\n",
       "Hours   1.000000  0.976191\n",
       "Scores  0.976191  1.000000"
      ]
     },
     "execution_count": 8,
     "metadata": {},
     "output_type": "execute_result"
    }
   ],
   "source": [
    "df.corr()"
   ]
  },
  {
   "cell_type": "markdown",
   "metadata": {},
   "source": [
    "##### Scatterplot"
   ]
  },
  {
   "cell_type": "code",
   "execution_count": 68,
   "metadata": {},
   "outputs": [
    {
     "data": {
      "image/png": "[encoded data removed]",
      "text/plain": [
       "<Figure size 432x288 with 1 Axes>"
      ]
     },
     "metadata": {
      "needs_background": "light"
     },
     "output_type": "display_data"
    }
   ],
   "source": [
    "plt.scatter(df.Scores, df.Hours, color = 'r')\n",
    "plt.xlabel('\\nHours of Study', fontweight='bold')\n",
    "plt.ylabel('Scores\\n', fontweight='bold')\n",
    "\n",
    "plt.grid(True, which='major')\n",
    "plt.show()"
   ]
  },
  {
   "cell_type": "markdown",
   "metadata": {},
   "source": [
    "<br/>\n",
    "\n",
    "## 5. Data Preparation"
   ]
  },
  {
   "cell_type": "markdown",
   "metadata": {},
   "source": [
    "##### Splitting the dataframe into Exploratoty and Response variable"
   ]
  },
  {
   "cell_type": "code",
   "execution_count": 35,
   "metadata": {},
   "outputs": [],
   "source": [
    "X = df[['Hours']]\n",
    "y = df['Scores']"
   ]
  },
  {
   "cell_type": "markdown",
   "metadata": {},
   "source": [
    "##### Splitting into train and test set"
   ]
  },
  {
   "cell_type": "code",
   "execution_count": 36,
   "metadata": {},
   "outputs": [],
   "source": [
    "X_train, X_test, y_train, y_test = train_test_split(X, y, test_size = 0.1, random_state = 0)"
   ]
  },
  {
   "cell_type": "markdown",
   "metadata": {},
   "source": [
    "<br/>\n",
    "\n",
    "## 6. Model Build UP"
   ]
  },
  {
   "cell_type": "markdown",
   "metadata": {},
   "source": [
    "<br/>\n",
    "\n",
    "## 6.1. Linear Regression"
   ]
  },
  {
   "cell_type": "code",
   "execution_count": 48,
   "metadata": {},
   "outputs": [
    {
     "name": "stdout",
     "output_type": "stream",
     "text": [
      "Train Accuracy: 0.9529891020405061\n",
      "Test Accuracy: 0.9298077534821834\n"
     ]
    }
   ],
   "source": [
    "lr = LinearRegression()\n",
    "\n",
    "# Train the model\n",
    "model_lr = lr.fit(X_train, y_train)\n",
    "\n",
    "# Prediction\n",
    "y_pred_train_lr = lr.predict(X_train)\n",
    "y_pred_test_lr = lr.predict(X_test)\n",
    "\n",
    "# Accuracy\n",
    "print('Train Accuracy: {}'.format(r2_score(y_train, y_pred_train_lr)))\n",
    "print('Test Accuracy: {}'.format(r2_score(y_test, y_pred_test_lr)))"
   ]
  },
  {
   "cell_type": "markdown",
   "metadata": {},
   "source": [
    "<br>\n",
    "\n",
    "## 6.2. Ridge Regression"
   ]
  },
  {
   "cell_type": "code",
   "execution_count": 53,
   "metadata": {},
   "outputs": [
    {
     "name": "stdout",
     "output_type": "stream",
     "text": [
      "Train Accuracy: 0.952934667726289\n",
      "Test Accuracy: 0.9308485898845601\n"
     ]
    }
   ],
   "source": [
    "rg = Ridge()\n",
    "\n",
    "# Train the model\n",
    "model_rg = rg.fit(X_train, y_train)\n",
    "\n",
    "# Prediction\n",
    "y_pred_train_rg = rg.predict(X_train)\n",
    "y_pred_test_rg = rg.predict(X_test)\n",
    "\n",
    "# Accuracy\n",
    "print('Train Accuracy: {}'.format(r2_score(y_train, y_pred_train_rg)))\n",
    "print('Test Accuracy: {}'.format(r2_score(y_test, y_pred_test_rg)))"
   ]
  },
  {
   "cell_type": "markdown",
   "metadata": {},
   "source": [
    "<br/>\n",
    "\n",
    "## 6.3. Lasso Regression"
   ]
  },
  {
   "cell_type": "code",
   "execution_count": 55,
   "metadata": {},
   "outputs": [
    {
     "name": "stdout",
     "output_type": "stream",
     "text": [
      "Train Accuracy: 0.9527136690693817\n",
      "Test Accuracy: 0.9319031148054695\n"
     ]
    }
   ],
   "source": [
    "ls = Lasso()\n",
    "\n",
    "# Train the model\n",
    "model_ls = ls.fit(X_train, y_train)\n",
    "\n",
    "# Prediction\n",
    "y_pred_train_ls = ls.predict(X_train)\n",
    "y_pred_test_ls = ls.predict(X_test)\n",
    "\n",
    "# Accuracy\n",
    "print('Train Accuracy: {}'.format(r2_score(y_train, y_pred_train_ls)))\n",
    "print('Test Accuracy: {}'.format(r2_score(y_test, y_pred_test_ls)))"
   ]
  },
  {
   "cell_type": "markdown",
   "metadata": {},
   "source": [
    "<br/>\n",
    "\n",
    "## 6.4. Elastic Net Regression"
   ]
  },
  {
   "cell_type": "code",
   "execution_count": 56,
   "metadata": {},
   "outputs": [
    {
     "name": "stdout",
     "output_type": "stream",
     "text": [
      "Train Accuracy: 0.9460815668059471\n",
      "Test Accuracy: 0.9314146326719326\n"
     ]
    }
   ],
   "source": [
    "en = ElasticNet()\n",
    "\n",
    "# Train the model\n",
    "model_en = en.fit(X_train, y_train)\n",
    "\n",
    "# Prediction\n",
    "y_pred_train_en = en.predict(X_train)\n",
    "y_pred_test_en = en.predict(X_test)\n",
    "\n",
    "# Accuracy\n",
    "print('Train Accuracy: {}'.format(r2_score(y_train, y_pred_train_en)))\n",
    "print('Test Accuracy: {}'.format(r2_score(y_test, y_pred_test_en)))"
   ]
  },
  {
   "cell_type": "markdown",
   "metadata": {},
   "source": [
    "<br/>\n",
    "\n",
    "## 6.5. Decision Tree"
   ]
  },
  {
   "cell_type": "code",
   "execution_count": 47,
   "metadata": {},
   "outputs": [
    {
     "name": "stdout",
     "output_type": "stream",
     "text": [
      "Train Accuracy: 0.996039415626985\n",
      "Test Accuracy: 0.6511627906976744\n"
     ]
    }
   ],
   "source": [
    "dt = DecisionTreeRegressor()\n",
    "\n",
    "# Train the model\n",
    "model_dt = dt.fit(X_train, y_train)\n",
    "\n",
    "# Prediction\n",
    "y_pred_train_dt = dt.predict(X_train)\n",
    "y_pred_test_dt = dt.predict(X_test)\n",
    "\n",
    "# Accuracy\n",
    "print('Train Accuracy: {}'.format(r2_score(y_train, y_pred_train_dt)))\n",
    "print('Test Accuracy: {}'.format(r2_score(y_test, y_pred_test_dt)))"
   ]
  },
  {
   "cell_type": "markdown",
   "metadata": {},
   "source": [
    "<br/>\n",
    "\n",
    "## 6.6. K-nearest Neighbour"
   ]
  },
  {
   "cell_type": "code",
   "execution_count": 51,
   "metadata": {},
   "outputs": [
    {
     "name": "stdout",
     "output_type": "stream",
     "text": [
      "Train Accuracy: 0.9549300443952297\n",
      "Test Accuracy: 0.875215946843854\n"
     ]
    }
   ],
   "source": [
    "kn = KNeighborsRegressor()\n",
    "\n",
    "# Train the model\n",
    "model_kn = kn.fit(X_train, y_train)\n",
    "\n",
    "# Prediction\n",
    "y_pred_train_kn = kn.predict(X_train)\n",
    "y_pred_test_kn = kn.predict(X_test)\n",
    "\n",
    "# Accuracy\n",
    "print('Train Accuracy: {}'.format(r2_score(y_train, y_pred_train_kn)))\n",
    "print('Test Accuracy: {}'.format(r2_score(y_test, y_pred_test_kn)))"
   ]
  },
  {
   "cell_type": "markdown",
   "metadata": {},
   "source": [
    "<br/>\n",
    "\n",
    "## 7. Comparison Between Different Models"
   ]
  },
  {
   "cell_type": "markdown",
   "metadata": {},
   "source": [
    "|    Model    |    Train Accuracy    |    Test Accuracy    |    Comment    |\n",
    "| --- | --- | ---| --- |\n",
    "|    Linear Regression    |    0.95299    |    0.92981    |        |\n",
    "|    Ridge Regression    |    0.95293    |    0.93085    |        |\n",
    "|    Lasso Regression    |    0.95271    |    0.93190    |    Best    |\n",
    "|    Elastic Net Regression    |    0.94608    |    0.93141    |        |\n",
    "|    Decision Tree    |    0.99604    |    0.65116    |    Overfitted    |\n",
    "|    K-nearest Neighbour    |    0.95493    |    0.87522    |    Overfitted    |"
   ]
  },
  {
   "cell_type": "markdown",
   "metadata": {},
   "source": [
    "<br/>\n",
    "\n",
    "## 8. Visualizing Model Performance"
   ]
  },
  {
   "cell_type": "markdown",
   "metadata": {},
   "source": [
    "##### Scatterplot: Actual vs Predicted Score"
   ]
  },
  {
   "cell_type": "code",
   "execution_count": 74,
   "metadata": {},
   "outputs": [
    {
     "data": {
      "image/png": "[encoded data removed]",
      "text/plain": [
       "<Figure size 432x288 with 1 Axes>"
      ]
     },
     "metadata": {
      "needs_background": "light"
     },
     "output_type": "display_data"
    }
   ],
   "source": [
    "plt.scatter(X_test, y_test, color = 'red', label = 'Actual Score')\n",
    "plt.scatter(X_test, y_pred_test_ls, color = 'blue', label = 'Predicted Score')\n",
    "\n",
    "plt.grid()\n",
    "plt.legend()\n",
    "plt.show()"
   ]
  },
  {
   "cell_type": "markdown",
   "metadata": {},
   "source": [
    "##### Scatterplot: Predicted Score with respect to Actual one"
   ]
  },
  {
   "cell_type": "code",
   "execution_count": 76,
   "metadata": {},
   "outputs": [
    {
     "data": {
      "image/png": "[encoded data removed]",
      "text/plain": [
       "<Figure size 432x288 with 1 Axes>"
      ]
     },
     "metadata": {
      "needs_background": "light"
     },
     "output_type": "display_data"
    }
   ],
   "source": [
    "df_result = pd.DataFrame(np.c_[y_test, y_pred_test_ls], columns = ['y_test', 'y_pred_test_ls'])\n",
    "k = df_result['y_pred_test_ls']\n",
    "l = df_result['y_test']\n",
    "\n",
    "import matplotlib.ticker as plticker\n",
    "plt.figure(figsize = (6, 4))\n",
    "plt.scatter(k, l)\n",
    "\n",
    "z = np.polyfit(k, l, 1)\n",
    "p = np.poly1d(z)\n",
    "plt.plot(k,p(k),\"k\", linewidth = 2.5)\n",
    "\n",
    "plt.xlabel('\\nActual Score', fontweight='bold')\n",
    "plt.ylabel('Prediction Score\\n', fontweight='bold')\n",
    "\n",
    "plt.grid(True, which='major')\n",
    "plt.show()"
   ]
  },
  {
   "cell_type": "markdown",
   "metadata": {},
   "source": [
    "<br/>\n",
    "\n",
    "## Predicting the score with respect to given study hour"
   ]
  },
  {
   "cell_type": "code",
   "execution_count": 84,
   "metadata": {},
   "outputs": [
    {
     "data": {
      "text/plain": [
       "92.98890242720462"
      ]
     },
     "execution_count": 84,
     "metadata": {},
     "output_type": "execute_result"
    }
   ],
   "source": [
    "given_study_hour = [[9.25]]\n",
    "\n",
    "# Prediction\n",
    "predicted_score = ls.predict(given_study_hour)\n",
    "predicted_score[0]"
   ]
  },
  {
   "cell_type": "markdown",
   "metadata": {},
   "source": [
    "<br/>\n",
    "\n",
    "## 10. Conclusion"
   ]
  },
  {
   "cell_type": "markdown",
   "metadata": {},
   "source": [
    "Different models have been built and their accuracies have been compared. It was found that **Lasso Regression** has performed better among all of the models.  \n",
    "The given value of study hour was passed through the Lasso Regression Model and it predicted the score of a student as 92.98.\n",
    "\n",
    "<br/>\n",
    "\n",
    "**So if a student studies for 9.25 hours/day, we can predict that his score will be nearly 92.98**."
   ]
  }
 ],
 "metadata": {
  "kernelspec": {
   "display_name": "Python 3",
   "language": "python",
   "name": "python3"
  },
  "language_info": {
   "codemirror_mode": {
    "name": "ipython",
    "version": 3
   },
   "file_extension": ".py",
   "mimetype": "text/x-python",
   "name": "python",
   "nbconvert_exporter": "python",
   "pygments_lexer": "ipython3",
   "version": "3.6.8"
  }
 },
 "nbformat": 4,
 "nbformat_minor": 4
}
